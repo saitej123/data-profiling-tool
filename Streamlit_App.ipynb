{
 "cells": [
  {
   "cell_type": "code",
   "execution_count": 38,
   "metadata": {},
   "outputs": [],
   "source": [
    "import os\n",
    "import streamlit as st\n",
    "import numpy as np\n",
    "import pandas as pd\n",
    "from pycaret.classification import *\n",
    "from joblib import load\n",
    "import streamlit as st\n",
    "import _pickle as pickle\n",
    "from pprint import pformat\n",
    "from pycaret.regression import *\n",
    "from PIL import Image\n",
    "import markdown\n",
    "import dabl\n",
    "import matplotlib.pyplot as plt\n",
    "import seaborn as sns\n",
    "from IPython.display import display, HTML"
   ]
  },
  {
   "cell_type": "code",
   "execution_count": 39,
   "metadata": {},
   "outputs": [],
   "source": [
    "dataset=pd.read_csv(\"C:/Users/Sai Tej/Documents/GitHub/Datasets/Diabetes Data/diabetes.csv\")"
   ]
  },
  {
   "cell_type": "code",
   "execution_count": 43,
   "metadata": {},
   "outputs": [],
   "source": [
    "def show_columns(x):\n",
    "    return x.columns"
   ]
  },
  {
   "cell_type": "code",
   "execution_count": 44,
   "metadata": {},
   "outputs": [
    {
     "data": {
      "text/plain": [
       "Index(['Pregnancies', 'Glucose', 'BloodPressure', 'SkinThickness', 'Insulin',\n",
       "       'BMI', 'DiabetesPedigreeFunction', 'Age', 'Outcome'],\n",
       "      dtype='object')"
      ]
     },
     "execution_count": 44,
     "metadata": {},
     "output_type": "execute_result"
    }
   ],
   "source": [
    "show_columns(dataset)"
   ]
  },
  {
   "cell_type": "code",
   "execution_count": 68,
   "metadata": {},
   "outputs": [
    {
     "data": {
      "text/plain": [
       "'Pregnancies'"
      ]
     },
     "execution_count": 68,
     "metadata": {},
     "output_type": "execute_result"
    }
   ],
   "source": [
    "from pycaret.classification import *\n",
    "from pycaret.regression import *\n",
    "all_columns = show_columns(x)\n",
    "target_selection= st.selectbox(\"Select Target Variable Column\",all_columns)\n",
    "target_selection"
   ]
  },
  {
   "cell_type": "code",
   "execution_count": 70,
   "metadata": {},
   "outputs": [],
   "source": [
    "def pycaret_automl(x,target_selection):\n",
    "    setting=setup(x, target =target_selection )\n",
    "    # compare all baseline models and select top 5\n",
    "    top5 = compare_models(n_select = 5) \n",
    "    # tune top 5 base models\n",
    "    tuned_top5 = [tune_model(i) for i in top5]\n",
    "    # ensemble top 5 tuned models\n",
    "    bagged_top5 = [ensemble_model(i) for i in tuned_top5]\n",
    "    # blend top 5 base models \n",
    "    blender = blend_models(estimator_list = top5) \n",
    "    # select best model \n",
    "    best = automl(optimize = 'Recall')\n",
    "    return best"
   ]
  },
  {
   "cell_type": "code",
   "execution_count": 74,
   "metadata": {},
   "outputs": [],
   "source": [
    "def pycaret_automl(x,y):\n",
    "    setting=setup(x, target =y )\n",
    "    # compare all baseline models and select top 5\n",
    "    #top5 = compare_models(n_select = 5) \n",
    "    # tune top 5 base models\n",
    "    #tuned_top5 = [tune_model(i) for i in top5]\n",
    "    # ensemble top 5 tuned models\n",
    "    #bagged_top5 = [ensemble_model(i) for i in tuned_top5]\n",
    "    # blend top 5 base models \n",
    "    #blender = blend_models(estimator_list = top5) \n",
    "    # select best model \n",
    "    #best = automl(optimize = 'Recall')\n",
    "    return st.write(setting)"
   ]
  },
  {
   "cell_type": "code",
   "execution_count": 75,
   "metadata": {},
   "outputs": [
    {
     "name": "stderr",
     "output_type": "stream",
     "text": [
      "2020-09-02 00:29:09.368 INFO    logs: PyCaret Regression Module\n",
      "2020-09-02 00:29:09.371 INFO    logs: version 2.1.2\n",
      "2020-09-02 00:29:09.373 INFO    logs: Initializing setup()\n",
      "2020-09-02 00:29:09.376 INFO    logs: USI: 10f6\n",
      "2020-09-02 00:29:09.378 INFO    logs: setup(data=(768, 9), target=Pregnancies, train_size=0.7, sampling=True, sample_estimator=None, categorical_features=None, categorical_imputation=constant, ordinal_features=None,\n",
      "                    high_cardinality_features=None, high_cardinality_method=frequency, numeric_features=None, numeric_imputation=mean, date_features=None, ignore_features=None, normalize=False,\n",
      "                    normalize_method=zscore, transformation=False, transformation_method=yeo-johnson, handle_unknown_categorical=True, unknown_categorical_method=least_frequent, pca=False, pca_method=linear,\n",
      "                    pca_components=None, ignore_low_variance=False, combine_rare_levels=False, rare_level_threshold=0.1, bin_numeric_features=None, remove_outliers=False, outliers_threshold=0.05,\n",
      "                    remove_multicollinearity=False, multicollinearity_threshold=0.9, remove_perfect_collinearity=False, create_clusters=False, cluster_iter=20,\n",
      "                    polynomial_features=False, polynomial_degree=2, trigonometry_features=False, polynomial_threshold=0.1, group_features=None,\n",
      "                    group_names=None, feature_selection=False, feature_selection_threshold=0.8, feature_interaction=False, feature_ratio=False, interaction_threshold=0.01, transform_target=False,\n",
      "                    transform_target_method=box-cox, data_split_shuffle=True, folds_shuffle=False, n_jobs=-1, html=True, session_id=None, log_experiment=False,\n",
      "                    experiment_name=None, log_plots=False, log_profile=False, log_data=False, silent=False, verbose=True, profile=False)\n",
      "2020-09-02 00:29:09.381 INFO    logs: Checking environment\n",
      "2020-09-02 00:29:09.383 INFO    logs: python_version: 3.8.3\n",
      "2020-09-02 00:29:09.386 INFO    logs: python_build: ('default', 'Jul  2 2020 17:30:36')\n",
      "2020-09-02 00:29:09.388 INFO    logs: machine: AMD64\n",
      "2020-09-02 00:29:09.390 INFO    logs: platform: Windows-10-10.0.14393-SP0\n",
      "2020-09-02 00:29:09.393 INFO    logs: Memory: svmem(total=5985783808, available=1560506368, percent=73.9, used=4425277440, free=1560506368)\n",
      "2020-09-02 00:29:09.395 INFO    logs: Physical Core: 2\n",
      "2020-09-02 00:29:09.397 INFO    logs: Logical Core: 4\n",
      "2020-09-02 00:29:09.399 INFO    logs: Checking libraries\n",
      "2020-09-02 00:29:09.402 INFO    logs: pd==1.0.5\n",
      "2020-09-02 00:29:09.404 INFO    logs: numpy==1.18.5\n",
      "2020-09-02 00:29:09.406 INFO    logs: sklearn==0.23.1\n",
      "2020-09-02 00:29:09.408 INFO    logs: xgboost==1.2.0\n",
      "2020-09-02 00:29:09.411 INFO    logs: lightgbm==2.3.1\n",
      "2020-09-02 00:29:09.412 INFO    logs: catboost==0.24.1\n",
      "2020-09-02 00:29:09.416 INFO    logs: mlflow==1.10.0\n",
      "2020-09-02 00:29:09.418 INFO    logs: Checking Exceptions\n",
      "2020-09-02 00:29:09.421 INFO    logs: Preloading libraries\n",
      "2020-09-02 00:29:09.423 INFO    logs: Preparing display monitor\n"
     ]
    },
    {
     "data": {
      "application/vnd.jupyter.widget-view+json": {
       "model_id": "db6b6b25def64468a16a948bbf8f4784",
       "version_major": 2,
       "version_minor": 0
      },
      "text/plain": [
       "IntProgress(value=0, description='Processing: ', max=13)"
      ]
     },
     "metadata": {},
     "output_type": "display_data"
    },
    {
     "data": {
      "text/html": [
       "<div>\n",
       "<style scoped>\n",
       "    .dataframe tbody tr th:only-of-type {\n",
       "        vertical-align: middle;\n",
       "    }\n",
       "\n",
       "    .dataframe tbody tr th {\n",
       "        vertical-align: top;\n",
       "    }\n",
       "\n",
       "    .dataframe thead th {\n",
       "        text-align: right;\n",
       "    }\n",
       "</style>\n",
       "<table border=\"1\" class=\"dataframe\">\n",
       "  <thead>\n",
       "    <tr style=\"text-align: right;\">\n",
       "      <th></th>\n",
       "      <th></th>\n",
       "      <th></th>\n",
       "    </tr>\n",
       "    <tr>\n",
       "      <th></th>\n",
       "      <th></th>\n",
       "      <th></th>\n",
       "    </tr>\n",
       "  </thead>\n",
       "  <tbody>\n",
       "    <tr>\n",
       "      <th>Initiated</th>\n",
       "      <td>. . . . . . . . . . . . . . . . . .</td>\n",
       "      <td>00:29:09</td>\n",
       "    </tr>\n",
       "    <tr>\n",
       "      <th>Status</th>\n",
       "      <td>. . . . . . . . . . . . . . . . . .</td>\n",
       "      <td>Preparing Data for Modeling</td>\n",
       "    </tr>\n",
       "    <tr>\n",
       "      <th>ETC</th>\n",
       "      <td>. . . . . . . . . . . . . . . . . .</td>\n",
       "      <td>Calculating ETC</td>\n",
       "    </tr>\n",
       "  </tbody>\n",
       "</table>\n",
       "</div>"
      ],
      "text/plain": [
       "                                                                           \n",
       "                                                                           \n",
       "Initiated  . . . . . . . . . . . . . . . . . .                     00:29:09\n",
       "Status     . . . . . . . . . . . . . . . . . .  Preparing Data for Modeling\n",
       "ETC        . . . . . . . . . . . . . . . . . .              Calculating ETC"
      ]
     },
     "metadata": {},
     "output_type": "display_data"
    },
    {
     "name": "stderr",
     "output_type": "stream",
     "text": [
      "2020-09-02 00:29:09.469 INFO    logs: Importing libraries\n"
     ]
    },
    {
     "data": {
      "text/html": [
       "        <script type=\"text/javascript\">\n",
       "        window.PlotlyConfig = {MathJaxConfig: 'local'};\n",
       "        if (window.MathJax) {MathJax.Hub.Config({SVG: {font: \"STIX-Web\"}});}\n",
       "        if (typeof require !== 'undefined') {\n",
       "        require.undef(\"plotly\");\n",
       "        requirejs.config({\n",
       "            paths: {\n",
       "                'plotly': ['https://cdn.plot.ly/plotly-latest.min']\n",
       "            }\n",
       "        });\n",
       "        require(['plotly'], function(Plotly) {\n",
       "            window._Plotly = Plotly;\n",
       "        });\n",
       "        }\n",
       "        </script>\n",
       "        "
      ]
     },
     "metadata": {},
     "output_type": "display_data"
    },
    {
     "name": "stderr",
     "output_type": "stream",
     "text": [
      "2020-09-02 00:29:09.506 INFO    logs: Declaring global variables\n",
      "2020-09-02 00:29:09.509 INFO    logs: Copying data for preprocessing\n",
      "2020-09-02 00:29:09.542 INFO    logs: Declaring preprocessing parameters\n",
      "2020-09-02 00:29:09.545 INFO    logs: Importing preprocessing module\n",
      "2020-09-02 00:29:09.546 INFO    logs: Creating preprocessing pipeline\n"
     ]
    },
    {
     "data": {
      "application/vnd.jupyter.widget-view+json": {
       "model_id": "36de8dd841424297a7021f28d58499d4",
       "version_major": 2,
       "version_minor": 0
      },
      "text/plain": [
       "Text(value=\"Following data types have been inferred automatically, if they are correct press enter to continue…"
      ]
     },
     "metadata": {},
     "output_type": "display_data"
    },
    {
     "data": {
      "text/html": [
       "<div>\n",
       "<style scoped>\n",
       "    .dataframe tbody tr th:only-of-type {\n",
       "        vertical-align: middle;\n",
       "    }\n",
       "\n",
       "    .dataframe tbody tr th {\n",
       "        vertical-align: top;\n",
       "    }\n",
       "\n",
       "    .dataframe thead th {\n",
       "        text-align: right;\n",
       "    }\n",
       "</style>\n",
       "<table border=\"1\" class=\"dataframe\">\n",
       "  <thead>\n",
       "    <tr style=\"text-align: right;\">\n",
       "      <th></th>\n",
       "      <th>Data Type</th>\n",
       "    </tr>\n",
       "  </thead>\n",
       "  <tbody>\n",
       "    <tr>\n",
       "      <th>Pregnancies</th>\n",
       "      <td>Label</td>\n",
       "    </tr>\n",
       "    <tr>\n",
       "      <th>Glucose</th>\n",
       "      <td>Numeric</td>\n",
       "    </tr>\n",
       "    <tr>\n",
       "      <th>BloodPressure</th>\n",
       "      <td>Numeric</td>\n",
       "    </tr>\n",
       "    <tr>\n",
       "      <th>SkinThickness</th>\n",
       "      <td>Numeric</td>\n",
       "    </tr>\n",
       "    <tr>\n",
       "      <th>Insulin</th>\n",
       "      <td>Numeric</td>\n",
       "    </tr>\n",
       "    <tr>\n",
       "      <th>BMI</th>\n",
       "      <td>Numeric</td>\n",
       "    </tr>\n",
       "    <tr>\n",
       "      <th>DiabetesPedigreeFunction</th>\n",
       "      <td>Numeric</td>\n",
       "    </tr>\n",
       "    <tr>\n",
       "      <th>Age</th>\n",
       "      <td>Numeric</td>\n",
       "    </tr>\n",
       "    <tr>\n",
       "      <th>Outcome</th>\n",
       "      <td>Categorical</td>\n",
       "    </tr>\n",
       "  </tbody>\n",
       "</table>\n",
       "</div>"
      ],
      "text/plain": [
       "                            Data Type\n",
       "Pregnancies                     Label\n",
       "Glucose                       Numeric\n",
       "BloodPressure                 Numeric\n",
       "SkinThickness                 Numeric\n",
       "Insulin                       Numeric\n",
       "BMI                           Numeric\n",
       "DiabetesPedigreeFunction      Numeric\n",
       "Age                           Numeric\n",
       "Outcome                   Categorical"
      ]
     },
     "metadata": {},
     "output_type": "display_data"
    },
    {
     "name": "stdin",
     "output_type": "stream",
     "text": [
      " q\n"
     ]
    },
    {
     "ename": "SystemExit",
     "evalue": "Read the documentation of setup to learn how to overwrite data types over the inferred types. setup function must run again before you continue modeling.",
     "output_type": "error",
     "traceback": [
      "An exception has occurred, use %tb to see the full traceback.\n",
      "\u001b[1;31mSystemExit\u001b[0m\u001b[1;31m:\u001b[0m Read the documentation of setup to learn how to overwrite data types over the inferred types. setup function must run again before you continue modeling.\n"
     ]
    }
   ],
   "source": [
    "pycaret_automl(dataset,target_selection)"
   ]
  },
  {
   "cell_type": "code",
   "execution_count": 48,
   "metadata": {},
   "outputs": [],
   "source": [
    "target = st.selectbox(\"Select Target Variable Column\",all_columns)"
   ]
  },
  {
   "cell_type": "code",
   "execution_count": null,
   "metadata": {},
   "outputs": [],
   "source": []
  },
  {
   "cell_type": "code",
   "execution_count": 49,
   "metadata": {},
   "outputs": [
    {
     "data": {
      "text/plain": [
       "'Pregnancies'"
      ]
     },
     "execution_count": 49,
     "metadata": {},
     "output_type": "execute_result"
    }
   ],
   "source": [
    "\n",
    "    \n",
    "    "
   ]
  },
  {
   "cell_type": "code",
   "execution_count": 41,
   "metadata": {},
   "outputs": [
    {
     "name": "stderr",
     "output_type": "stream",
     "text": [
      "2020-09-01 23:36:04.304 INFO    logs: Initializing create_model()\n",
      "2020-09-01 23:36:04.308 INFO    logs: create_model(estimator=BaggingClassifier(base_estimator=LogisticRegression(C=5.857,\n",
      "                                                    class_weight='balanced',\n",
      "                                                    dual=False,\n",
      "                                                    fit_intercept=True,\n",
      "                                                    intercept_scaling=1,\n",
      "                                                    l1_ratio=None, max_iter=100,\n",
      "                                                    multi_class='auto',\n",
      "                                                    n_jobs=None, penalty='l2',\n",
      "                                                    random_state=553,\n",
      "                                                    solver='lbfgs', tol=0.0001,\n",
      "                                                    verbose=0,\n",
      "                                                    warm_start=False),\n",
      "                  bootstrap=True, bootstrap_features=False, max_features=1.0,\n",
      "                  max_samples=1.0, n_estimators=10, n_jobs=-1, oob_score=False,\n",
      "                  random_state=553, verbose=0, warm_start=False), ensemble=False, method=None, fold=10, round=4, cross_validation=True, verbose=False, system=False)\n",
      "2020-09-01 23:36:04.310 INFO    logs: Checking exceptions\n",
      "2020-09-01 23:36:04.314 INFO    logs: Preloading libraries\n",
      "2020-09-01 23:36:04.315 INFO    logs: Preparing display monitor\n",
      "2020-09-01 23:36:04.338 INFO    logs: Copying training dataset\n",
      "2020-09-01 23:36:04.341 INFO    logs: Importing libraries\n",
      "2020-09-01 23:36:04.346 INFO    logs: Defining folds\n",
      "2020-09-01 23:36:04.348 INFO    logs: Declaring metric variables\n",
      "2020-09-01 23:36:04.351 INFO    logs: Importing untrained model\n",
      "2020-09-01 23:36:04.352 INFO    logs: Declaring custom model\n",
      "2020-09-01 23:36:04.358 INFO    logs: Bagging Classifier Imported succesfully\n",
      "2020-09-01 23:36:04.363 INFO    logs: Checking ensemble method\n",
      "2020-09-01 23:36:04.369 INFO    logs: Initializing Fold 1\n",
      "2020-09-01 23:36:04.381 INFO    logs: Fitting Model\n",
      "2020-09-01 23:36:04.698 INFO    logs: Evaluating Metrics\n",
      "2020-09-01 23:36:04.742 INFO    logs: Compiling Metrics\n",
      "2020-09-01 23:36:04.755 INFO    logs: Initializing Fold 2\n",
      "2020-09-01 23:36:04.761 INFO    logs: Fitting Model\n",
      "2020-09-01 23:36:05.153 INFO    logs: Evaluating Metrics\n",
      "2020-09-01 23:36:05.199 INFO    logs: Compiling Metrics\n",
      "2020-09-01 23:36:05.214 INFO    logs: Initializing Fold 3\n",
      "2020-09-01 23:36:05.219 INFO    logs: Fitting Model\n",
      "2020-09-01 23:36:05.502 INFO    logs: Evaluating Metrics\n",
      "2020-09-01 23:36:05.548 INFO    logs: Compiling Metrics\n",
      "2020-09-01 23:36:05.562 INFO    logs: Initializing Fold 4\n",
      "2020-09-01 23:36:05.566 INFO    logs: Fitting Model\n",
      "2020-09-01 23:36:05.850 INFO    logs: Evaluating Metrics\n",
      "2020-09-01 23:36:05.897 INFO    logs: Compiling Metrics\n",
      "2020-09-01 23:36:05.915 INFO    logs: Initializing Fold 5\n",
      "2020-09-01 23:36:05.921 INFO    logs: Fitting Model\n",
      "2020-09-01 23:36:06.220 INFO    logs: Evaluating Metrics\n",
      "2020-09-01 23:36:06.251 INFO    logs: Compiling Metrics\n",
      "2020-09-01 23:36:06.267 INFO    logs: Initializing Fold 6\n",
      "2020-09-01 23:36:06.283 INFO    logs: Fitting Model\n",
      "2020-09-01 23:36:06.608 INFO    logs: Evaluating Metrics\n",
      "2020-09-01 23:36:06.661 INFO    logs: Compiling Metrics\n",
      "2020-09-01 23:36:06.682 INFO    logs: Initializing Fold 7\n",
      "2020-09-01 23:36:06.687 INFO    logs: Fitting Model\n",
      "2020-09-01 23:36:07.007 INFO    logs: Evaluating Metrics\n",
      "2020-09-01 23:36:07.072 INFO    logs: Compiling Metrics\n",
      "2020-09-01 23:36:07.097 INFO    logs: Initializing Fold 8\n",
      "2020-09-01 23:36:07.102 INFO    logs: Fitting Model\n",
      "2020-09-01 23:36:07.445 INFO    logs: Evaluating Metrics\n",
      "2020-09-01 23:36:07.496 INFO    logs: Compiling Metrics\n",
      "2020-09-01 23:36:07.515 INFO    logs: Initializing Fold 9\n",
      "2020-09-01 23:36:07.520 INFO    logs: Fitting Model\n",
      "2020-09-01 23:36:07.972 INFO    logs: Evaluating Metrics\n",
      "2020-09-01 23:36:08.022 INFO    logs: Compiling Metrics\n",
      "2020-09-01 23:36:08.046 INFO    logs: Initializing Fold 10\n",
      "2020-09-01 23:36:08.051 INFO    logs: Fitting Model\n",
      "2020-09-01 23:36:08.435 INFO    logs: Evaluating Metrics\n",
      "2020-09-01 23:36:08.488 INFO    logs: Compiling Metrics\n",
      "2020-09-01 23:36:08.507 INFO    logs: Calculating mean and std\n",
      "2020-09-01 23:36:08.512 INFO    logs: Creating metrics dataframe\n",
      "2020-09-01 23:36:08.526 INFO    logs: Finalizing model\n",
      "2020-09-01 23:36:08.961 INFO    logs: Uploading results into container\n",
      "2020-09-01 23:36:08.962 INFO    logs: Uploading model into container now\n",
      "2020-09-01 23:36:08.964 INFO    logs: create_model_container: 17\n",
      "2020-09-01 23:36:08.966 INFO    logs: master_model_container: 17\n",
      "2020-09-01 23:36:08.968 INFO    logs: display_container: 18\n",
      "2020-09-01 23:36:08.974 INFO    logs: BaggingClassifier(base_estimator=LogisticRegression(C=5.857,\n",
      "                                                    class_weight='balanced',\n",
      "                                                    dual=False,\n",
      "                                                    fit_intercept=True,\n",
      "                                                    intercept_scaling=1,\n",
      "                                                    l1_ratio=None, max_iter=100,\n",
      "                                                    multi_class='auto',\n",
      "                                                    n_jobs=None, penalty='l2',\n",
      "                                                    random_state=553,\n",
      "                                                    solver='lbfgs', tol=0.0001,\n",
      "                                                    verbose=0,\n",
      "                                                    warm_start=False),\n",
      "                  bootstrap=True, bootstrap_features=False, max_features=1.0,\n",
      "                  max_samples=1.0, n_estimators=10, n_jobs=-1, oob_score=False,\n",
      "                  random_state=553, verbose=0, warm_start=False)\n",
      "2020-09-01 23:36:08.976 INFO    logs: create_model() succesfully completed......................................\n",
      "2020-09-01 23:36:08.978 INFO    logs: create_model_container: 17\n",
      "2020-09-01 23:36:08.980 INFO    logs: master_model_container: 17\n",
      "2020-09-01 23:36:08.982 INFO    logs: display_container: 18\n",
      "2020-09-01 23:36:08.987 INFO    logs: BaggingClassifier(base_estimator=LogisticRegression(C=5.857,\n",
      "                                                    class_weight='balanced',\n",
      "                                                    dual=False,\n",
      "                                                    fit_intercept=True,\n",
      "                                                    intercept_scaling=1,\n",
      "                                                    l1_ratio=None, max_iter=100,\n",
      "                                                    multi_class='auto',\n",
      "                                                    n_jobs=None, penalty='l2',\n",
      "                                                    random_state=553,\n",
      "                                                    solver='lbfgs', tol=0.0001,\n",
      "                                                    verbose=0,\n",
      "                                                    warm_start=False),\n",
      "                  bootstrap=True, bootstrap_features=False, max_features=1.0,\n",
      "                  max_samples=1.0, n_estimators=10, n_jobs=-1, oob_score=False,\n",
      "                  random_state=553, verbose=0, warm_start=False)\n",
      "2020-09-01 23:36:08.990 INFO    logs: finalize_model() succesfully completed......................................\n",
      "2020-09-01 23:36:08.992 INFO    logs: SubProcess finalize_model() end ==================================\n",
      "2020-09-01 23:36:08.998 INFO    logs: BaggingClassifier(base_estimator=LogisticRegression(C=5.857,\n",
      "                                                    class_weight='balanced',\n",
      "                                                    dual=False,\n",
      "                                                    fit_intercept=True,\n",
      "                                                    intercept_scaling=1,\n",
      "                                                    l1_ratio=None, max_iter=100,\n",
      "                                                    multi_class='auto',\n",
      "                                                    n_jobs=None, penalty='l2',\n",
      "                                                    random_state=553,\n",
      "                                                    solver='lbfgs', tol=0.0001,\n",
      "                                                    verbose=0,\n",
      "                                                    warm_start=False),\n",
      "                  bootstrap=True, bootstrap_features=False, max_features=1.0,\n",
      "                  max_samples=1.0, n_estimators=10, n_jobs=-1, oob_score=False,\n",
      "                  random_state=553, verbose=0, warm_start=False)\n",
      "2020-09-01 23:36:09.000 INFO    logs: automl() succesfully completed......................................\n"
     ]
    }
   ],
   "source": [
    "from pycaret.datasets import get_data \n",
    "data = get_data('diabetes') \n",
    "# initializing setup \n",
    "from pycaret.classification import *\n",
    "clf1 = setup(data, target = 'Class variable') \n",
    "# compare all baseline models and select top 5\n",
    "top5 = compare_models(n_select = 5) \n",
    "# tune top 5 base models\n",
    "tuned_top5 = [tune_model(i) for i in top5]\n",
    "# ensemble top 5 tuned models\n",
    "bagged_top5 = [ensemble_model(i) for i in tuned_top5]\n",
    "# blend top 5 base models \n",
    "blender = blend_models(estimator_list = top5) \n",
    "# select best model \n",
    "best = automl(optimize = 'Recall')"
   ]
  },
  {
   "cell_type": "code",
   "execution_count": 42,
   "metadata": {},
   "outputs": [
    {
     "data": {
      "text/plain": [
       "BaggingClassifier(base_estimator=LogisticRegression(C=5.857,\n",
       "                                                    class_weight='balanced',\n",
       "                                                    dual=False,\n",
       "                                                    fit_intercept=True,\n",
       "                                                    intercept_scaling=1,\n",
       "                                                    l1_ratio=None, max_iter=100,\n",
       "                                                    multi_class='auto',\n",
       "                                                    n_jobs=None, penalty='l2',\n",
       "                                                    random_state=553,\n",
       "                                                    solver='lbfgs', tol=0.0001,\n",
       "                                                    verbose=0,\n",
       "                                                    warm_start=False),\n",
       "                  bootstrap=True, bootstrap_features=False, max_features=1.0,\n",
       "                  max_samples=1.0, n_estimators=10, n_jobs=-1, oob_score=False,\n",
       "                  random_state=553, verbose=0, warm_start=False)"
      ]
     },
     "execution_count": 42,
     "metadata": {},
     "output_type": "execute_result"
    }
   ],
   "source": [
    "best"
   ]
  },
  {
   "cell_type": "code",
   "execution_count": null,
   "metadata": {},
   "outputs": [],
   "source": []
  }
 ],
 "metadata": {
  "kernelspec": {
   "display_name": "Python 3",
   "language": "python",
   "name": "python3"
  },
  "language_info": {
   "codemirror_mode": {
    "name": "ipython",
    "version": 3
   },
   "file_extension": ".py",
   "mimetype": "text/x-python",
   "name": "python",
   "nbconvert_exporter": "python",
   "pygments_lexer": "ipython3",
   "version": "3.8.3"
  }
 },
 "nbformat": 4,
 "nbformat_minor": 4
}
